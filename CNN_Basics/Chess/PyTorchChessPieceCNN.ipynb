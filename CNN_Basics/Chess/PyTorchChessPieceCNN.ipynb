{
 "cells": [
  {
   "cell_type": "markdown",
   "source": [
    "# **_Chess Piece Classification_**\n",
    "\n",
    "### __*This CNN is supposed to determine what kind of Chess Piece is in the Image*__"
   ],
   "metadata": {
    "collapsed": false
   }
  },
  {
   "cell_type": "markdown",
   "source": [
    "<br>\n",
    "\n",
    "### __*Import Libraries and choose the device*__"
   ],
   "metadata": {
    "collapsed": false
   }
  },
  {
   "cell_type": "code",
   "execution_count": 5,
   "outputs": [
    {
     "name": "stdout",
     "output_type": "stream",
     "text": [
      "Using the Graphics Card\n"
     ]
    }
   ],
   "source": [
    "# Import of the Libraries\n",
    "import os\n",
    "import csv\n",
    "import numpy as np\n",
    "import pandas as pd\n",
    "import random as rand\n",
    "import skimage\n",
    "import matplotlib.pyplot as plt\n",
    "\n",
    "# Torch libraries\n",
    "import torch\n",
    "import torchvision\n",
    "import torch.nn as nn\n",
    "from torch.utils.data import Dataset, DataLoader\n",
    "\n",
    "# Device config (Pick your set-up)\n",
    "# GPU = torch.device('cpu')  # CPU\n",
    "GPU = torch.device('cuda' if torch.cuda.is_available() else 'cpu')  # NVIDIA GPUs\n",
    "# GPU = torch.device('mps' if torch.has_mps else 'cpu')  # ARM GPUs (M1, M2, ...)\n",
    "print('Using the Processor') if GPU == torch.device('cpu') else print('Using the Graphics Card')"
   ],
   "metadata": {
    "collapsed": false
   }
  },
  {
   "cell_type": "markdown",
   "source": [
    "<br>\n",
    "\n",
    "### __*Create the .csv file for Dataset*__"
   ],
   "metadata": {
    "collapsed": false
   }
  },
  {
   "cell_type": "code",
   "execution_count": 6,
   "outputs": [],
   "source": [
    "def create_csv(file_path, csv_path=None, train_csv=None, test_csv=None,\n",
    "               rewrite=False, split=False, test_ratio=0.2, mul=1, mul_test=False):\n",
    "    \"\"\"Create a csv file for your dataset\"\"\"\n",
    "\n",
    "    translate = dict()                                  # Class : Number\n",
    "    categories = os.listdir(file_path)                  # Load all categories\n",
    "\n",
    "    # Create an indexing dictionary\n",
    "    for idx in range(len(categories)):\n",
    "        translate[idx] = categories[idx]\n",
    "\n",
    "    # Create one csv file\n",
    "    if not split:\n",
    "        if csv_path is not None and not os.path.exists(csv_path) or rewrite:\n",
    "            file = open(csv_path, 'w', newline='')      # Create the csv file\n",
    "            writer = csv.writer(file)                   # Create a writer for csv file\n",
    "            writer.writerow(('NaN', 'NaN'))             # DataLoader skips 1. row\n",
    "\n",
    "            # Create a .csv file of all images & their class\n",
    "            for idx in range(len(categories)):\n",
    "                tmp_path = os.path.join(file_path, categories[idx])  # File path + Sub-File\n",
    "                tmp_images = os.listdir(tmp_path)\n",
    "                for img in tmp_images:\n",
    "                    img_path = os.path.join(categories[idx], img)  # Sub-File + img\n",
    "                    for _ in range(mul):                # Expand the dataset\n",
    "                        writer.writerow((img_path, idx))\n",
    "            file.close()                                # Close the file\n",
    "\n",
    "    # Create train & test csv file\n",
    "    if split:\n",
    "        if (train_csv is not None and test_csv is not None) and \\\n",
    "                (not os.path.exists(train_csv) or not os.path.exists(test_csv) or rewrite):\n",
    "            train_f = open(train_csv, 'w', newline='')  # Create the train csv file\n",
    "            test_f = open(test_csv, 'w', newline='')    # Create the test csv file\n",
    "            train_writer = csv.writer(train_f)          # Create a writer for train csv file\n",
    "            test_writer = csv.writer(test_f)            # Create a writer for test csv file\n",
    "            train_writer.writerow(('NaN', 'NaN'))       # DataLoader skips 1. row\n",
    "            test_writer.writerow(('NaN', 'NaN'))        # DataLoader skips 1. row\n",
    "\n",
    "            # Create the .csv files of all images & their class\n",
    "            for idx in range(len(categories)):\n",
    "                tmp_path = os.path.join(file_path, categories[idx])\n",
    "                tmp_images = os.listdir(tmp_path)\n",
    "                test_split = int(len(tmp_images) / 100 * (test_ratio * 100))\n",
    "                rand_dir = sorted(rand.sample(range(0, len(tmp_images)), test_split))\n",
    "                train_idx = 0\n",
    "                for img in tmp_images:\n",
    "                    img_path = os.path.join(categories[idx], img)\n",
    "                    if train_idx in rand_dir and mul_test:\n",
    "                        for _ in range(mul):\n",
    "                            test_writer.writerow((img_path, idx))\n",
    "                    elif train_idx in rand_dir:\n",
    "                        test_writer.writerow((img_path, idx))\n",
    "                    else:\n",
    "                        for _ in range(mul):\n",
    "                            train_writer.writerow((img_path, idx))\n",
    "                    train_idx += 1\n",
    "            train_f.close()                             # Close the file\n",
    "            test_f.close()                              # Close the file\n",
    "\n",
    "    return translate"
   ],
   "metadata": {
    "collapsed": false
   }
  },
  {
   "cell_type": "markdown",
   "source": [
    "<br>\n",
    "\n",
    "### __*Convert the Images into a Dataset*__"
   ],
   "metadata": {
    "collapsed": false
   }
  },
  {
   "cell_type": "code",
   "execution_count": 7,
   "outputs": [],
   "source": [
    "class ChessDataset(Dataset):\n",
    "\n",
    "    def __init__(self, file_path, csv_path, transform=None):\n",
    "        self.annotations = pd.read_csv(csv_path)\n",
    "        self.file_path = file_path\n",
    "        self.transform = transform\n",
    "\n",
    "    def __len__(self):\n",
    "        return len(self.annotations)\n",
    "\n",
    "    def __getitem__(self, index):\n",
    "        img_path = os.path.join(self.file_path, self.annotations.iloc[index, 0])\n",
    "        image = skimage.io.imread(img_path)\n",
    "        y_label = torch.tensor(self.annotations.iloc[index, 1])\n",
    "\n",
    "        if self.transform:\n",
    "            image = self.transform(image)\n",
    "\n",
    "        return image, y_label"
   ],
   "metadata": {
    "collapsed": false
   }
  },
  {
   "cell_type": "markdown",
   "source": [
    "<br>\n",
    "\n",
    "### __*Convolutional Neural Network*__"
   ],
   "metadata": {
    "collapsed": false
   }
  },
  {
   "cell_type": "code",
   "execution_count": 8,
   "outputs": [],
   "source": [
    "class ConvNet(nn.Module):\n",
    "    def __init__(self, colour, n_categories):\n",
    "        super(ConvNet, self).__init__()\n",
    "        # input = 3 colour channels, output = 6 (our choice), filter = 4*4 (our choice)\n",
    "        self.conv1 = nn.Conv2d(colour, 6, 4)\n",
    "        self.pool = nn.MaxPool2d(2, 2)  # take 2*2, then move 2 px\n",
    "        # input = 6 channels (last output), output = 16 (our choice), filter = 4*4 (our choice)\n",
    "        self.conv2 = nn.Conv2d(6, 16, 4)\n",
    "        self.fc1 = nn.Linear(16 * 19 * 19, 120)\n",
    "        self.fc2 = nn.Linear(120, 84)\n",
    "        self.fc3 = nn.Linear(84, n_categories)\n",
    "\n",
    "\n",
    "    def forward(self, x):\n",
    "        # -> n, 3, 85, 85\n",
    "        x = self.pool(torch.nn.functional.relu(self.conv1(x)))  # -> n, 6, 14, 14\n",
    "        x = self.pool(torch.nn.functional.relu(self.conv2(x)))  # -> n, 16, 5, 5\n",
    "        x = x.view(-1, 16 * 19 * 19)                            # -> n, 400\n",
    "        x = torch.nn.functional.relu(self.fc1(x))               # -> n, 120\n",
    "        x = torch.nn.functional.relu(self.fc2(x))               # -> n, 84\n",
    "        x = self.fc3(x)                                         # -> n, 10\n",
    "        return x"
   ],
   "metadata": {
    "collapsed": false
   }
  },
  {
   "cell_type": "markdown",
   "source": [
    "<br>\n",
    "\n",
    "### __*Training Preparation (Set all variables here)*__"
   ],
   "metadata": {
    "collapsed": false
   }
  },
  {
   "cell_type": "code",
   "execution_count": 9,
   "outputs": [],
   "source": [
    "# Hyper-parameters\n",
    "num_epochs = 25         # How many times to repeat learning\n",
    "batch_size = 8          # Number of images to send at once\n",
    "learning_rate = 0.01    # How quickly should it learn\n",
    "steps_per_epoch = 1     # Number of prints per epoch\n",
    "\n",
    "# Image Dimensions\n",
    "IMG_SIZE = 85  # 85*85 pixels\n",
    "\n",
    "# Define the directory\n",
    "FILE_PATH = './data/chess/pieces'           # Sub-Folders Location\n",
    "CSV_PATH = './data/chess/data.csv'          # CSV Location\n",
    "TRAIN_CSV = './data/chess/train_data.csv'   # Train CSV Location\n",
    "TEST_CSV = './data/chess/test_data.csv'     # Test CSV Location\n",
    "CATEGORIES = os.listdir(FILE_PATH)          # Turn Sub-Folder names into a list\n",
    "N_CLASSES = len(CATEGORIES)                 # Number of different classes\n",
    "\n",
    "\n",
    "# Transformation\n",
    "transformer = torchvision.transforms.Compose([\n",
    "    torchvision.transforms.ToTensor(),\n",
    "    torchvision.transforms.Resize((IMG_SIZE, IMG_SIZE)),\n",
    "    torchvision.transforms.RandomHorizontalFlip(),\n",
    "    torchvision.transforms.RandomVerticalFlip(),\n",
    "    #torchvision.transforms.Grayscale()\n",
    "])\n",
    "\n",
    "# ___ PyTorch Splitting Method ________________________________________________________________\n",
    "# Create the .csv file & dictionary\n",
    "create_csv(FILE_PATH, CSV_PATH, rewrite=True)\n",
    "\n",
    "# Create the Datasets\n",
    "dataset = ChessDataset(FILE_PATH, CSV_PATH, transform=transformer)\n",
    "n_80 = int(len(dataset) / 100 * 80)  # 80% for training\n",
    "n_20 = int(len(dataset) - n_80)      # 20% for testing\n",
    "\n",
    "# train_dataset, test_dataset = torch.utils.data.random_split(dataset,[n_80, n_20])\n",
    "# ---------------------------------------------------------------------------------------------\n",
    "\n",
    "\n",
    "# Get Normalizer\n",
    "normal_loader = DataLoader(dataset=dataset, batch_size=len(dataset))\n",
    "data = next(iter(normal_loader))\n",
    "MEAN = data[0].mean()\n",
    "STD = data[0].std()\n",
    "\n",
    "# Normalized Transformation\n",
    "trans_normal = torchvision.transforms.Compose([\n",
    "    torchvision.transforms.ToTensor(),\n",
    "    torchvision.transforms.Resize((IMG_SIZE, IMG_SIZE)),\n",
    "    torchvision.transforms.RandomHorizontalFlip(),\n",
    "    torchvision.transforms.RandomVerticalFlip(),\n",
    "    #torchvision.transforms.Grayscale(),\n",
    "    torchvision.transforms.Normalize(MEAN, STD)\n",
    "])\n",
    "\n",
    "\n",
    "# ___ CSV Splitting Method ____________________________________________________________________\n",
    "# Create the .csv file & dictionary\n",
    "indexing = create_csv(FILE_PATH, train_csv=TRAIN_CSV, test_csv=TEST_CSV,\n",
    "                      rewrite=True, split=True, test_ratio=0.2, mul=2)\n",
    "\n",
    "# Create the Datasets\n",
    "train_dataset = ChessDataset(FILE_PATH, TRAIN_CSV, transform=trans_normal)\n",
    "test_dataset = ChessDataset(FILE_PATH, TEST_CSV, transform=trans_normal)\n",
    "# ---------------------------------------------------------------------------------------------\n",
    "\n",
    "\n",
    "# Create the DataLoaders\n",
    "train_loader = DataLoader(dataset=train_dataset, batch_size=batch_size, shuffle=True)\n",
    "test_loader = DataLoader(dataset=test_dataset, batch_size=batch_size)\n",
    "\n",
    "# Create the Model\n",
    "model = ConvNet(3, N_CLASSES).to(GPU)\n",
    "\n",
    "# Choose type of Loss & Optimization function\n",
    "criterion = nn.CrossEntropyLoss()\n",
    "optimizer = torch.optim.Adamax(model.parameters(), lr=learning_rate)"
   ],
   "metadata": {
    "collapsed": false
   }
  },
  {
   "cell_type": "markdown",
   "source": [
    "#### __*Look at some data*__"
   ],
   "metadata": {
    "collapsed": false
   }
  },
  {
   "cell_type": "code",
   "execution_count": 10,
   "outputs": [
    {
     "name": "stdout",
     "output_type": "stream",
     "text": [
      "mean: 0.5585927963256836 | std: 0.24727840721607208\n",
      "N. of images: 517 | Training: 413 | Testing: 104\n",
      "Translate: {0: 'pawn', 1: 'queen', 2: 'rook', 3: 'bishop', 4: 'king', 5: 'knight'}\n",
      "[(0, 384), (1, 56), (2, 116), (3, 108), (4, 56), (5, 114)]\n",
      "[(0, 47), (1, 6), (2, 14), (3, 13), (4, 6), (5, 14)]\n",
      "torch.Size([8, 3, 85, 85])\n"
     ]
    },
    {
     "name": "stderr",
     "output_type": "stream",
     "text": [
      "Clipping input data to the valid range for imshow with RGB data ([0..1] for floats or [0..255] for integers).\n"
     ]
    },
    {
     "data": {
      "text/plain": "<Figure size 640x480 with 1 Axes>",
      "image/png": "[encoded data removed]"
     },
     "metadata": {},
     "output_type": "display_data"
    }
   ],
   "source": [
    "def imshow(img):\n",
    "    img = img / 2 + 0.5  # un-normalize\n",
    "    np_img = img.numpy()\n",
    "    plt.imshow(np.transpose(np_img, (1, 2, 0)))\n",
    "    plt.show()\n",
    "\n",
    "print(f'mean: {MEAN} | std: {STD}')\n",
    "print(f'N. of images: {len(dataset)} | Training: {n_80} | Testing: {n_20}')\n",
    "# Print Translation\n",
    "print(f'Translate: {indexing}')\n",
    "\n",
    "# Get dataset distribution\n",
    "train_dct = dict()\n",
    "for item in train_dataset:\n",
    "    try:\n",
    "        train_dct[item[1].item()] += 1\n",
    "    except KeyError:\n",
    "        train_dct[item[1].item()] = 1\n",
    "print(sorted(train_dct.items()))\n",
    "\n",
    "test_dct = dict()\n",
    "for item in test_dataset:\n",
    "    try:\n",
    "        test_dct[item[1].item()] += 1\n",
    "    except KeyError:\n",
    "        test_dct[item[1].item()] = 1\n",
    "print(sorted(test_dct.items()))\n",
    "\n",
    "# Get some random training images\n",
    "dataiter = iter(train_loader)\n",
    "images, labels = next(dataiter)\n",
    "print(images.shape)\n",
    "\n",
    "# Show images\n",
    "imshow(torchvision.utils.make_grid(images))"
   ],
   "metadata": {
    "collapsed": false
   }
  },
  {
   "cell_type": "markdown",
   "source": [
    "<br>\n",
    "\n",
    "### __*Training Loop (Works Automatically)*__"
   ],
   "metadata": {
    "collapsed": false
   }
  },
  {
   "cell_type": "code",
   "execution_count": 12,
   "outputs": [
    {
     "name": "stdout",
     "output_type": "stream",
     "text": [
      "Epoch 1 / 25 | Step 105 / 105 | Loss: 0.0000\n",
      "Epoch 2 / 25 | Step 105 / 105 | Loss: 0.0000\n",
      "Epoch 3 / 25 | Step 105 / 105 | Loss: 0.0000\n",
      "Epoch 4 / 25 | Step 105 / 105 | Loss: 0.0000\n",
      "Epoch 5 / 25 | Step 105 / 105 | Loss: 0.0000\n",
      "Epoch 6 / 25 | Step 105 / 105 | Loss: 0.0000\n",
      "Epoch 7 / 25 | Step 105 / 105 | Loss: 0.0000\n",
      "Epoch 8 / 25 | Step 105 / 105 | Loss: 0.0000\n",
      "Epoch 9 / 25 | Step 105 / 105 | Loss: 0.0000\n",
      "Epoch 10 / 25 | Step 105 / 105 | Loss: 0.0000\n",
      "Epoch 11 / 25 | Step 105 / 105 | Loss: 0.0000\n",
      "Epoch 12 / 25 | Step 105 / 105 | Loss: 0.0000\n",
      "Epoch 13 / 25 | Step 105 / 105 | Loss: 0.0000\n",
      "Epoch 14 / 25 | Step 105 / 105 | Loss: 0.0000\n",
      "Epoch 15 / 25 | Step 105 / 105 | Loss: 0.0000\n",
      "Epoch 16 / 25 | Step 105 / 105 | Loss: 0.0000\n",
      "Epoch 17 / 25 | Step 105 / 105 | Loss: 0.0000\n",
      "Epoch 18 / 25 | Step 105 / 105 | Loss: 0.0000\n",
      "Epoch 19 / 25 | Step 105 / 105 | Loss: 0.0000\n",
      "Epoch 20 / 25 | Step 105 / 105 | Loss: 0.0000\n",
      "Epoch 21 / 25 | Step 105 / 105 | Loss: 0.0000\n",
      "Epoch 22 / 25 | Step 105 / 105 | Loss: 0.0000\n",
      "Epoch 23 / 25 | Step 105 / 105 | Loss: 0.0000\n",
      "Epoch 24 / 25 | Step 105 / 105 | Loss: 0.0000\n",
      "Epoch 25 / 25 | Step 105 / 105 | Loss: 0.0000\n",
      "--- Training Finished ---\n",
      "Accuracy of the Model: 94.00 %\n",
      "Accuracy of pawn: 97.87 %\n",
      "Accuracy of queen: 100.00 %\n",
      "Accuracy of rook: 85.71 %\n",
      "Accuracy of bishop: 92.31 %\n",
      "Accuracy of king: 83.33 %\n",
      "Accuracy of knight: 92.86 %\n"
     ]
    }
   ],
   "source": [
    "# Variables for epoch print\n",
    "n_total_steps = len(train_loader)\n",
    "mean_loss = 0\n",
    "\n",
    "for epoch in range(num_epochs):\n",
    "    for i, (images, labels) in enumerate(train_loader):\n",
    "        # Origin shape: [4, 3, 32, 32] = 4, 3, 1024\n",
    "        # input_layer: 3 input channels, 6 output channels, 5 kernel size\n",
    "        images = images.to(GPU)\n",
    "        labels = labels.to(GPU)\n",
    "\n",
    "        # Forward pass\n",
    "        outputs = model(images)\n",
    "        loss = criterion(outputs, labels)\n",
    "        mean_loss += loss.item()\n",
    "\n",
    "        # Backward & optimize\n",
    "        optimizer.zero_grad()\n",
    "        loss.backward()\n",
    "        optimizer.step()\n",
    "\n",
    "        if (i+1) % int(n_total_steps / steps_per_epoch) == 0:\n",
    "            print(f'Epoch {epoch + 1} / {num_epochs} | Step {i+1} / {n_total_steps} | '\n",
    "                  f'Loss: {(mean_loss/2000):.4f}')\n",
    "            mean_loss = 0\n",
    "\n",
    "print('--- Training Finished ---')\n",
    "SAVE_PATH = './chess.pth'\n",
    "torch.save(model.state_dict(), SAVE_PATH)\n",
    "\n",
    "# data_loader(test_loader), device(GPU), classification(CATEGORIES)\n",
    "# n_classes = len(classification)\n",
    "with torch.no_grad():\n",
    "    n_correct = 0\n",
    "    n_samples = 0\n",
    "    n_class_correct = [0 for i in range(N_CLASSES)]\n",
    "    n_class_samples = [0 for i in range(N_CLASSES)]\n",
    "    for images, labels in test_loader:\n",
    "        images = images.to(GPU)\n",
    "        labels = labels.to(GPU)\n",
    "        outputs = model(images)\n",
    "        # max returns (value ,index)\n",
    "        _, predicted = torch.max(outputs, 1)\n",
    "        n_samples += labels.size(0)\n",
    "        n_correct += (predicted == labels).sum().item()\n",
    "\n",
    "        for i in range(len(labels)):\n",
    "            label = labels[i]\n",
    "            pred = predicted[i]\n",
    "            if label == pred:\n",
    "                n_class_correct[label] += 1\n",
    "            n_class_samples[label] += 1\n",
    "\n",
    "    accuracy = 100.0 * n_correct / n_samples\n",
    "    print(f'Accuracy of the Model: {accuracy:.2f} %')\n",
    "\n",
    "    for i in range(N_CLASSES):\n",
    "        accuracy = 100.0 * n_class_correct[i] / n_class_samples[i]\n",
    "        print(f'Accuracy of {CATEGORIES[i]}: {accuracy:.2f} %')"
   ],
   "metadata": {
    "collapsed": false
   }
  }
 ],
 "metadata": {
  "kernelspec": {
   "display_name": "Python 3",
   "language": "python",
   "name": "python3"
  },
  "language_info": {
   "codemirror_mode": {
    "name": "ipython",
    "version": 2
   },
   "file_extension": ".py",
   "mimetype": "text/x-python",
   "name": "python",
   "nbconvert_exporter": "python",
   "pygments_lexer": "ipython2",
   "version": "2.7.6"
  }
 },
 "nbformat": 4,
 "nbformat_minor": 0
}
