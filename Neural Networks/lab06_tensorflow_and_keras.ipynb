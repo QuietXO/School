{
 "cells": [
  {
   "cell_type": "markdown",
   "metadata": {
    "id": "48ncBGDncQTS"
   },
   "source": [
    "# Cvičenie 6: Neurónové siete v PyTorch"
   ]
  },
  {
   "cell_type": "markdown",
   "metadata": {
    "id": "MhwkUe84cQTY"
   },
   "source": [
    "Minulý týždeň ste už videli príklad implementácie neurónovej siete pomocou knižnice PyTorch. Na dnešnom cvičení sa pozrieme na to, ako presne funguje Autograd v PyTorch. Aby ste úspešne zvládli cvičenie, potrebujete mať nainštalovanú knižnicu PyTorch."
   ]
  },
  {
   "cell_type": "markdown",
   "metadata": {
    "id": "TYp2Fmp5cQTZ"
   },
   "source": [
    "## 1. Výpočty v PyTorch"
   ]
  },
  {
   "cell_type": "markdown",
   "metadata": {
    "id": "64nx28xYcQTa"
   },
   "source": [
    "Na začiatok zadefinujeme jednoduchú operáciu sčítania pomocou PyTorch:\n",
    "\n",
    "![](https://github.com/DominikVranay/neural-networks-course/blob/master/labs/sources/lab06/6.1-addition.png?raw=1)"
   ]
  },
  {
   "cell_type": "code",
   "execution_count": 1,
   "metadata": {
    "id": "Sd2NKhACcQTb",
    "colab": {
     "base_uri": "https://localhost:8080/"
    },
    "outputId": "f32c920a-4422-46bf-d367-59bee71dda78"
   },
   "outputs": [
    {
     "name": "stdout",
     "output_type": "stream",
     "text": [
      "tensor(50)\n"
     ]
    }
   ],
   "source": [
    "import torch\n",
    "\n",
    "# create the nodes in the graph, and initialize values\n",
    "a = torch.tensor(13)\n",
    "b = torch.tensor(37)\n",
    "\n",
    "# add together the two values\n",
    "c = torch.add(a, b)\n",
    "print(c)"
   ]
  },
  {
   "cell_type": "markdown",
   "metadata": {
    "id": "xZxT1HZTcQTc"
   },
   "source": [
    "Výstup výpočtu je tensor s hodnotou 50: `tensor(50)`. PyTorch podporuje tensory s hodnotami (môžu byť konštanty alebo premenné) a s výpočtami.\n",
    "\n",
    "Na základe predošlého príkladu vytvorte viac zložitý graf:\n",
    "\n",
    "![](https://github.com/DominikVranay/neural-networks-course/blob/master/labs/sources/lab06/6.2-complicated-graph.png?raw=1)"
   ]
  },
  {
   "cell_type": "code",
   "execution_count": 2,
   "metadata": {
    "id": "Rw4B1Op2cQTd",
    "colab": {
     "base_uri": "https://localhost:8080/"
    },
    "outputId": "6312a179-faa8-4a08-cc71-b3a8ac067143"
   },
   "outputs": [
    {
     "name": "stdout",
     "output_type": "stream",
     "text": [
      "tensor(49.5000)\n"
     ]
    }
   ],
   "source": [
    "# create the nodes in the graph, and initialize values\n",
    "a = torch.tensor(2.5)\n",
    "b = torch.tensor(6.5)\n",
    "\n",
    "c = a + b\n",
    "d = torch.sub(b, 1) # torch.add(b, -1)\n",
    "e = torch.mul(c, d)\n",
    "\n",
    "print(e)"
   ]
  },
  {
   "cell_type": "markdown",
   "metadata": {
    "id": "nWuLLP3_cQTe"
   },
   "source": [
    "## 2. Neurón v PyTorch"
   ]
  },
  {
   "cell_type": "markdown",
   "metadata": {
    "id": "HmqRfphWcQTe"
   },
   "source": [
    "Neurón predstavuje základný výpočtový prvok neurónových sietí, ktorý pozostáva zo vstupov, synaptických váh, váženej sumy, aktivačnej funkcie a výstupnej funckie. V tomto kroku implementujeme jednoduchý neurón pomocou základných metód PyTorch, aby ste videli, ako tieto výpočty fungujú na úrovni s nižšou abstrakciou.\n",
    "\n",
    "![](https://github.com/DominikVranay/neural-networks-course/blob/master/labs/sources/lab06/6.3-perceptron.png?raw=1)"
   ]
  },
  {
   "cell_type": "code",
   "execution_count": 3,
   "metadata": {
    "id": "JooxKT32cQTf",
    "colab": {
     "base_uri": "https://localhost:8080/"
    },
    "outputId": "d6ae41e3-0260-4e27-b748-fb8898b67f59"
   },
   "outputs": [
    {
     "name": "stdout",
     "output_type": "stream",
     "text": [
      "tensor([[0.0025]])\n"
     ]
    }
   ],
   "source": [
    "# simple perceptron with two input nodes\n",
    "def my_neuron(x):\n",
    "    # define some arbitrary weights for the two input values\n",
    "    W = torch.tensor([[3, -2]], dtype=torch.float32)\n",
    "\n",
    "    # define the bias of the neuron\n",
    "    b = 1\n",
    "    \n",
    "    # compute weighted sum (hint: check out torch.matmul)\n",
    "    z = torch.matmul(x, W.T) + b\n",
    "\n",
    "    # apply the sigmoid activation function (hint: use torch.sigmoid)\n",
    "    output = torch.sigmoid(z)\n",
    "\n",
    "    return output\n",
    "\n",
    "sample_input = torch.tensor([[-1, 2]], dtype=torch.float32)\n",
    "\n",
    "result = my_neuron(sample_input)\n",
    "print(result)"
   ]
  },
  {
   "cell_type": "markdown",
   "metadata": {
    "id": "aLkYlsencQTg"
   },
   "source": [
    "## 3. Plne prepojené vrstvy v PyTorch"
   ]
  },
  {
   "cell_type": "markdown",
   "metadata": {
    "id": "sc1y5HmNcQTh"
   },
   "source": [
    "Ak chceme vytvoriť neurónovú sieť, jednoduché neuróny musíme usporiadať do tzv. vrstiev. Oproti predošlému príkladu musíme tiež upraviť váhy tak, aby boli aktualizovateľné. V neurónových sieťach sa najčastejšie používajú plne prepojené vrstvy (*fully connected* alebo *linear*)."
   ]
  },
  {
   "cell_type": "code",
   "execution_count": 4,
   "metadata": {
    "id": "FrYEE6ZacQTh"
   },
   "outputs": [],
   "source": [
    "# x: input values\n",
    "# n_in: number of input nodes\n",
    "# n_out: number of output nodes\n",
    "def my_dense_layer(x, n_in, n_out):\n",
    "    # define variable weights as a matrix and biases\n",
    "    # initialize weights for one\n",
    "    # initialize biases for zero\n",
    "    W = torch.rand((n_in, n_out), requires_grad=True)\n",
    "    b = torch.zeros((1, n_out), requires_grad=True)\n",
    "    \n",
    "    # compute weighted sum (hint: check out torch.matmul)\n",
    "    z = torch.matmul(x, W) + b\n",
    "\n",
    "    # apply the sigmoid activation function (hint: use torch.sigmoid)\n",
    "    output = torch.sigmoid(z)\n",
    "\n",
    "    return output, W"
   ]
  },
  {
   "cell_type": "markdown",
   "metadata": {
    "id": "zCZIq6ujcQTh"
   },
   "source": [
    "Ako aj pred tým, naše riešenie vieme otestovať zadaním ľubovoľných hodnôt (s dodržaním počtu vstupných a výstupných neurónov)."
   ]
  },
  {
   "cell_type": "code",
   "execution_count": 5,
   "metadata": {
    "id": "VgoHyAY_cQTi",
    "colab": {
     "base_uri": "https://localhost:8080/"
    },
    "outputId": "5028fa6d-e726-4f6e-a81b-7d5be813063b"
   },
   "outputs": [
    {
     "name": "stdout",
     "output_type": "stream",
     "text": [
      "tensor([[0.8900, 0.8228, 0.7687]], grad_fn=<SigmoidBackward0>)\n",
      "tensor([[0.0979, 0.1458, 0.1778],\n",
      "        [0.1957, 0.2916, 0.3556]])\n"
     ]
    }
   ],
   "source": [
    "sample_input = torch.tensor([[1, 2.]])\n",
    "out, W = my_dense_layer(sample_input, n_in=2, n_out=3)\n",
    "out.sum().backward()\n",
    "print(out)\n",
    "print(W.grad)"
   ]
  },
  {
   "cell_type": "markdown",
   "metadata": {
    "id": "mgLNppsEcQTi"
   },
   "source": [
    "Podobne by sme postupovali pri definícii neurónovej siete s viacerými vrstvami, vidíme ale, že takýto zápis je zdĺhavý a neprehľadný. Práve preto bola vyvinutá knižnica `torch.nn`, ktorá obsahuje už naprogramované základné vrstvy pomocou jazyka C++."
   ]
  },
  {
   "cell_type": "markdown",
   "metadata": {
    "id": "gD5E48A0cQTj"
   },
   "source": [
    "## 4. Definícia a trénovanie neurónovej siete pomocou torch.nn"
   ]
  },
  {
   "cell_type": "markdown",
   "metadata": {
    "id": "WwMrPYMdcQTk"
   },
   "source": [
    "Pre dnešnú ukážku môžete používať ľubuvoľný dataset, odporúčame ale použiť niektorý dataset pre klasifikáciu z [tohto repozitára](https://archive.ics.uci.edu/ml/datasets.php).\n",
    "\n",
    "Ako sme už videli minulý týždeň, v PyTorch potrebujeme vytvoriť sekvenčný model priamo s vrstvami, následne vytvoriť optimizátor a nakoniec natrénovať. Dnes ukážeme trocha iný prístup, kde najprv zadefinujete triedu pre model s vrstvami a prepojíte ich vo forward funkcii. Oba prístupy sú rovnocenné a môžete ich používať ľubovoľne. Najčastejšie sa používa vlastná trieda modelu, keďže je oveľa jednoduchšie manipulovať výstup vrstiev a vytvoriť viac vetiev."
   ]
  },
  {
   "cell_type": "code",
   "execution_count": 6,
   "metadata": {
    "colab": {
     "base_uri": "https://localhost:8080/"
    },
    "id": "o5Kqnd6gcQTk",
    "outputId": "a2543315-8ffb-4f07-effe-971d5a7b639a"
   },
   "outputs": [
    {
     "name": "stdout",
     "output_type": "stream",
     "text": [
      "Model(\n",
      "  (linear1): Linear(in_features=4, out_features=12, bias=True)\n",
      "  (linear2): Linear(in_features=12, out_features=6, bias=True)\n",
      "  (linear3): Linear(in_features=6, out_features=3, bias=True)\n",
      "  (relu): ReLU(inplace=True)\n",
      "  (tanh): Tanh()\n",
      "  (sigmoid): Sigmoid()\n",
      ")\n"
     ]
    }
   ],
   "source": [
    "from torch import nn\n",
    "\n",
    "class Model(nn.Module):\n",
    "    def __init__(self, dims=[4, 12, 6, 3]):\n",
    "        super(Model, self).__init__()\n",
    "        self.linear1 = nn.Linear(dims[0], dims[1])\n",
    "        self.linear2 = nn.Linear(dims[1], dims[2])\n",
    "        self.linear3 = nn.Linear(dims[2], dims[3])\n",
    "        self.relu = nn.ReLU(inplace=True)\n",
    "        self.tanh = nn.Tanh()\n",
    "        self.sigmoid = nn.Sigmoid()\n",
    "        \n",
    "    \n",
    "    def forward(self, x):\n",
    "        x = self.linear1(x)\n",
    "        x = self.tanh(x)\n",
    "        x = self.linear2(x)\n",
    "        x = self.tanh(x)\n",
    "        x = self.linear3(x)\n",
    "        x = self.sigmoid(x)\n",
    "        return x\n",
    "\n",
    "model = Model()\n",
    "print(model)"
   ]
  },
  {
   "cell_type": "markdown",
   "metadata": {
    "id": "pwFkwnh1cQTl"
   },
   "source": [
    "Užitočná metóda je metóda `print`, ktorá vám vypíše informácie o definovanej sieti."
   ]
  },
  {
   "cell_type": "markdown",
   "metadata": {
    "id": "aOPgZNLjcQTm"
   },
   "source": [
    "Ak ste spokojní s topológiou siete, môžete vytvorit optimalizator a loss funkciu."
   ]
  },
  {
   "cell_type": "code",
   "execution_count": 7,
   "metadata": {
    "id": "LWd0hRxPcQTn",
    "colab": {
     "base_uri": "https://localhost:8080/"
    },
    "outputId": "4a1ffcd2-6195-4a47-eafe-af441e6d4c23"
   },
   "outputs": [
    {
     "name": "stdout",
     "output_type": "stream",
     "text": [
      "Parameter containing:\n",
      "tensor([[-0.4668,  0.0452, -0.4918, -0.3462],\n",
      "        [-0.3381, -0.1159,  0.1185,  0.4544],\n",
      "        [-0.4656,  0.0897,  0.1166,  0.3414],\n",
      "        [ 0.2769, -0.2068,  0.4797, -0.2623],\n",
      "        [ 0.3770,  0.3966,  0.1118, -0.1879],\n",
      "        [ 0.2787, -0.2082, -0.0675,  0.0884],\n",
      "        [-0.0900, -0.2611, -0.3587,  0.2395],\n",
      "        [-0.2356,  0.1900, -0.1151, -0.2405],\n",
      "        [ 0.4786,  0.0169,  0.2295, -0.0773],\n",
      "        [-0.1958, -0.3778,  0.4924,  0.1690],\n",
      "        [-0.0637,  0.2946, -0.1608, -0.4321],\n",
      "        [ 0.2398, -0.4097, -0.0168, -0.0667]], requires_grad=True)\n",
      "Parameter containing:\n",
      "tensor([ 0.0250, -0.0612, -0.0306, -0.3166,  0.1789,  0.1057, -0.4297,  0.2030,\n",
      "         0.3223,  0.0424,  0.2716,  0.4536], requires_grad=True)\n",
      "Parameter containing:\n",
      "tensor([[-0.1627,  0.2177, -0.2726,  0.1958, -0.1794,  0.2339, -0.1963, -0.2041,\n",
      "          0.1606, -0.2148,  0.0428,  0.2131],\n",
      "        [-0.2479, -0.0672,  0.1233,  0.1330,  0.1589,  0.2081, -0.1942, -0.1495,\n",
      "          0.0105, -0.1847,  0.0903,  0.0010],\n",
      "        [-0.0231,  0.0577,  0.0896, -0.0993,  0.2255,  0.2171, -0.1843,  0.1189,\n",
      "         -0.2066,  0.0992,  0.0778,  0.1077],\n",
      "        [ 0.0503,  0.1709, -0.0280,  0.1389,  0.0643,  0.2688,  0.0409,  0.2765,\n",
      "          0.0029, -0.0253,  0.0283, -0.0317],\n",
      "        [ 0.1187,  0.0088, -0.1966,  0.1989, -0.1758,  0.1130,  0.0969, -0.2455,\n",
      "         -0.0790, -0.1034,  0.2097,  0.2822],\n",
      "        [-0.0264, -0.0320, -0.0276,  0.2000,  0.0846, -0.2403, -0.1978, -0.1753,\n",
      "          0.1382,  0.0260, -0.0745,  0.2340]], requires_grad=True)\n",
      "Parameter containing:\n",
      "tensor([-0.2609, -0.1825,  0.0356, -0.0229,  0.2454, -0.0102],\n",
      "       requires_grad=True)\n",
      "Parameter containing:\n",
      "tensor([[ 0.1910,  0.1587,  0.3505,  0.2700, -0.1539, -0.2209],\n",
      "        [ 0.3211,  0.2210, -0.2955, -0.3929,  0.0121, -0.0366],\n",
      "        [-0.2072, -0.2604,  0.1664,  0.3819, -0.0055, -0.3062]],\n",
      "       requires_grad=True)\n",
      "Parameter containing:\n",
      "tensor([ 0.1340, -0.2254,  0.2734], requires_grad=True)\n"
     ]
    }
   ],
   "source": [
    "optimizer = torch.optim.Adam(model.parameters(), lr=0.01)\n",
    "criterion = torch.nn.CrossEntropyLoss()\n",
    "for params in model.parameters():\n",
    "    print(params)"
   ]
  },
  {
   "cell_type": "markdown",
   "metadata": {
    "id": "XV--u8gacQTn"
   },
   "source": [
    "Ako Dataset si zvolíme Iris z minulých cvičené a použijeme už známy training loop"
   ]
  },
  {
   "cell_type": "code",
   "source": [
    "import pandas as pd\n",
    "dataset = pd.read_csv('iris.csv')\n",
    "X = dataset.iloc[:, :4].values\n",
    "y = dataset.iloc[:, -1].values\n",
    "\n",
    "from sklearn.preprocessing import LabelEncoder\n",
    "\n",
    "encoder = LabelEncoder()\n",
    "# transform string labels into number values 0, 1, 2\n",
    "Y = encoder.fit_transform(y)\n",
    "\n",
    "from sklearn.model_selection import train_test_split\n",
    "\n",
    "X_train, X_test, y_train, y_test = train_test_split(X, Y, test_size=0.2, random_state=0)\n",
    "X_train = torch.Tensor(X_train)\n",
    "X_test = torch.Tensor(X_test)\n",
    "y_train = torch.LongTensor(y_train)"
   ],
   "metadata": {
    "id": "J57K84ZfdwjZ"
   },
   "execution_count": 8,
   "outputs": []
  },
  {
   "cell_type": "code",
   "source": [
    "for epoch in range(1000):\n",
    "    optimizer.zero_grad()\n",
    "    preds = model(X_train)\n",
    "    loss = criterion(preds, y_train)\n",
    "    loss.backward()\n",
    "    optimizer.step()\n",
    "    if epoch%100 == 0:\n",
    "        print(\"Loss:\", loss.detach().item(), \"accuracy:\", (y_train== preds.argmax(-1)).sum().item()/len(y_train))"
   ],
   "metadata": {
    "id": "eymz2bpJm_UU"
   },
   "execution_count": 9,
   "outputs": [
    {
     "name": "stdout",
     "output_type": "stream",
     "text": [
      "Loss: 1.098787546157837 accuracy: 0.325\n",
      "Loss: 0.702217698097229 accuracy: 0.9416666666666667\n",
      "Loss: 0.5998117923736572 accuracy: 0.9833333333333333\n",
      "Loss: 0.5823734998703003 accuracy: 0.9916666666666667\n",
      "Loss: 0.5743486881256104 accuracy: 0.9916666666666667\n",
      "Loss: 0.5694678425788879 accuracy: 0.9916666666666667\n",
      "Loss: 0.5663651823997498 accuracy: 0.9916666666666667\n",
      "Loss: 0.5644932985305786 accuracy: 0.9916666666666667\n",
      "Loss: 0.5633373260498047 accuracy: 0.9916666666666667\n",
      "Loss: 0.5625829696655273 accuracy: 0.9916666666666667\n"
     ]
    }
   ]
  },
  {
   "cell_type": "markdown",
   "metadata": {
    "id": "tsl19B9scQTn"
   },
   "source": [
    "Ak chcete natrénovanú sieť používať, potrebujete zavolať model:"
   ]
  },
  {
   "cell_type": "code",
   "execution_count": 10,
   "metadata": {
    "id": "m_XP9BOacQTo"
   },
   "outputs": [],
   "source": [
    "y_pred = model(X_test)"
   ]
  },
  {
   "cell_type": "markdown",
   "metadata": {
    "id": "IF6eTaoocQTo"
   },
   "source": [
    "**Poznámka**: ukážkové riešenie úloh s PyTorch nájdete [tu](https://github.com/DominikVranay/neural-networks-course/blob/1bc027f84dbcfb48e49d05122c68512feacd3a1a/labs/sources/lab06/lab6-tensorflow-solution.py))."
   ]
  }
 ],
 "metadata": {
  "kernelspec": {
   "display_name": "Python 3",
   "language": "python",
   "name": "python3"
  },
  "language_info": {
   "codemirror_mode": {
    "name": "ipython",
    "version": 3
   },
   "file_extension": ".py",
   "mimetype": "text/x-python",
   "name": "python",
   "nbconvert_exporter": "python",
   "pygments_lexer": "ipython3",
   "version": "3.7.3"
  },
  "colab": {
   "provenance": []
  }
 },
 "nbformat": 4,
 "nbformat_minor": 0
}
