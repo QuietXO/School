{
 "cells": [
  {
   "cell_type": "markdown",
   "source": [
    "# **_ID3 Algorithm_**\n",
    "\n",
    "- [ID3 Logic](https://www.youtube.com/watch?v=K-oGwFoCGU0)\n",
    "- [ID3 Machine Learning](https://www.youtube.com/watch?v=KjkE0aB29FM)\n",
    "- [ID3 Example 1](https://www.youtube.com/watch?v=coOTEc-0OGw)\n",
    "- [ID3 Example 2](https://www.youtube.com/watch?v=JO2wiZif2OM)\n",
    "- [ID3 Example 3](https://www.youtube.com/watch?v=2A8AGfxs0D8)"
   ],
   "metadata": {
    "collapsed": false
   }
  },
  {
   "cell_type": "markdown",
   "source": [
    "<br>\n",
    "\n",
    "### __*Import Libraries*__"
   ],
   "metadata": {
    "collapsed": false
   }
  },
  {
   "cell_type": "code",
   "execution_count": 1,
   "metadata": {
    "collapsed": true
   },
   "outputs": [],
   "source": [
    "import numpy as np\n",
    "import pandas as pd\n",
    "from typing import Union\n",
    "from graphviz import Digraph"
   ]
  },
  {
   "cell_type": "markdown",
   "source": [
    "<br>\n",
    "\n",
    "### __*ID3 Class*__"
   ],
   "metadata": {
    "collapsed": false
   }
  },
  {
   "cell_type": "code",
   "execution_count": 2,
   "outputs": [],
   "source": [
    "class Node:\n",
    "    def __init__(self, feature=None, value=None, result=None) -> None:\n",
    "        self.feature = feature  # Feature to split on\n",
    "        self.value = value      # Value of the feature to split on\n",
    "        self.result = result    # Result if the node is a leaf node\n",
    "        self.children = {}      # Dictionary to store child nodes\n",
    "\n",
    "    def show(self):\n",
    "        print(f'Split on {self.feature} of value {self.value}\\n'\n",
    "              f'Result: {self.result}\\n'\n",
    "              f'Chaining: {self.children}')\n",
    "\n",
    "\n",
    "class ID3:\n",
    "    def __init__(self, dataframe : pd.DataFrame, outp_idx : int = -1) -> None:\n",
    "        self.__dataframe = dataframe\n",
    "        self.__outp_idx = outp_idx\n",
    "\n",
    "        # Prepare the data\n",
    "        self.__labels = list(self.__dataframe.columns)\n",
    "        self.__X = self.__dataframe.drop(self.__labels[self.__outp_idx], axis=1).copy()\n",
    "        self.__y = self.__dataframe[self.__labels[self.__outp_idx]].copy()\n",
    "\n",
    "        self.__features = list(self.__X.columns)\n",
    "\n",
    "        # Create Tree\n",
    "        self.__tree = self.__fit()\n",
    "\n",
    "\n",
    "    def __entropy(self, y=None) -> float:\n",
    "        \"\"\" Calculate the entropy for an attribute\"\"\"\n",
    "        y = self.__y if y is None else y\n",
    "\n",
    "        unique, counts = np.unique(y, return_counts=True)\n",
    "        probabilities = counts / counts.sum()   #  calculates the probabilities of each unique label\n",
    "        return -np.sum(probabilities * np.log2(probabilities))\n",
    "\n",
    "\n",
    "    def __information_gain(self, feature):\n",
    "        \"\"\" Calculate the information gain for a given feature \"\"\"\n",
    "        base_entropy = self.__entropy(self.__y)\n",
    "        unique_values = np.unique(self.__X[feature])\n",
    "        weighted_entropy = 0\n",
    "\n",
    "        for value in unique_values:\n",
    "            subset_y = self.__y[self.__X[feature] == value]\n",
    "            weighted_entropy += len(subset_y) / len(self.__y) * self.__entropy(subset_y)\n",
    "\n",
    "        return base_entropy - weighted_entropy\n",
    "\n",
    "\n",
    "    def __fit(self, X=None, y=None, features=None) -> Node:\n",
    "        X = self.__X if X is None else X\n",
    "        y = self.__y if y is None else y\n",
    "        features = self.__features if features is None else features\n",
    "\n",
    "        # Base cases\n",
    "        if len(np.unique(y)) == 1:\n",
    "            return Node(result=y.iloc[0])\n",
    "\n",
    "        if len(features) == 0:\n",
    "            return Node(result=np.unique(y).argmax())\n",
    "\n",
    "        # Choose the best feature to split on\n",
    "        best_feature = max(features, key=lambda feature: self.__information_gain(feature))\n",
    "\n",
    "        # Create a new decision tree node\n",
    "        root = Node(feature=best_feature)\n",
    "\n",
    "        # Recursively build the tree for each value of the best feature\n",
    "        for value in np.unique(X[best_feature]):\n",
    "            subset_X = X[X[best_feature] == value]\n",
    "            subset_y = y[X[best_feature] == value]\n",
    "            root.children[value] = self.__fit(subset_X, subset_y, [feature for feature in features if feature != best_feature])\n",
    "\n",
    "        return root\n",
    "\n",
    "\n",
    "    def predict(self, sample:pd.DataFrame, node=None) -> Union[KeyError, Node]:\n",
    "        \"\"\" Function to predict using the decision tree \"\"\"\n",
    "        node = self.__tree if node is None else node\n",
    "\n",
    "        if node.result is not None:\n",
    "            return node.result\n",
    "        value = sample[node.feature]\n",
    "        if value not in node.children:\n",
    "            return KeyError('Invalid Label(-s)')\n",
    "        child = node.children[value]\n",
    "        return self.predict(sample, child)\n",
    "\n",
    "\n",
    "    def get_tree(self) -> Node:\n",
    "        return self.__tree\n",
    "\n",
    "    def visualize_tree(self, node=None, dot=None, parent_name=None, edge_label=None, green='yes'):\n",
    "        node = self.__tree if node is None else node\n",
    "\n",
    "        if dot is None:\n",
    "            dot = Digraph(comment='Decision Tree')\n",
    "            dot.attr(size='8,5')\n",
    "            dot.node_attr.update(style='filled', fillcolor='lightblue', shape='box', fontname='arial', fontsize='10')\n",
    "            dot.edge_attr.update(fontname='arial', fontsize='8')\n",
    "\n",
    "        current_name = str(id(node))\n",
    "        if node.feature is not None:\n",
    "            dot.node(current_name, label=f'{node.feature}\\n{edge_label}', fillcolor='lightblue')\n",
    "        else:\n",
    "            dot.node(current_name, label=f'Result: {node.result}', shape='ellipse', fillcolor='lightgreen') if node.result == green\\\n",
    "                else dot.node(current_name, label=f'Result: {node.result}', shape='ellipse', fillcolor='lightcoral')\n",
    "\n",
    "        if parent_name is not None:\n",
    "            dot.edge(parent_name, current_name, label=edge_label)\n",
    "\n",
    "        for value, child_node in node.children.items():\n",
    "            self.visualize_tree(child_node, dot, current_name, str(value))\n",
    "\n",
    "        return dot"
   ],
   "metadata": {
    "collapsed": false
   }
  },
  {
   "cell_type": "markdown",
   "source": [
    "<br>\n",
    "\n",
    "### __*[Tennis Dataset](https://www.kaggle.com/datasets/krishnagiri/id3csv) Preparation*__"
   ],
   "metadata": {
    "collapsed": false
   }
  },
  {
   "cell_type": "code",
   "execution_count": 3,
   "outputs": [
    {
     "data": {
      "text/plain": "     Outlook Temperature Humidity    Wind Answer\n0      sunny         hot     high    weak     no\n1      sunny         hot     high  strong     no\n2   overcast         hot     high    weak    yes\n3       rain        mild     high    weak    yes\n4       rain        cool   normal    weak    yes\n5       rain        cool   normal  strong     no\n6   overcast        cool   normal  strong    yes\n7      sunny        mild     high    weak     no\n8      sunny        cool   normal    weak    yes\n9       rain        mild   normal    weak    yes\n10     sunny        mild   normal  strong    yes\n11  overcast        mild     high  strong    yes\n12  overcast         hot   normal    weak    yes\n13      rain        mild     high  strong     no",
      "text/html": "<div>\n<style scoped>\n    .dataframe tbody tr th:only-of-type {\n        vertical-align: middle;\n    }\n\n    .dataframe tbody tr th {\n        vertical-align: top;\n    }\n\n    .dataframe thead th {\n        text-align: right;\n    }\n</style>\n<table border=\"1\" class=\"dataframe\">\n  <thead>\n    <tr style=\"text-align: right;\">\n      <th></th>\n      <th>Outlook</th>\n      <th>Temperature</th>\n      <th>Humidity</th>\n      <th>Wind</th>\n      <th>Answer</th>\n    </tr>\n  </thead>\n  <tbody>\n    <tr>\n      <th>0</th>\n      <td>sunny</td>\n      <td>hot</td>\n      <td>high</td>\n      <td>weak</td>\n      <td>no</td>\n    </tr>\n    <tr>\n      <th>1</th>\n      <td>sunny</td>\n      <td>hot</td>\n      <td>high</td>\n      <td>strong</td>\n      <td>no</td>\n    </tr>\n    <tr>\n      <th>2</th>\n      <td>overcast</td>\n      <td>hot</td>\n      <td>high</td>\n      <td>weak</td>\n      <td>yes</td>\n    </tr>\n    <tr>\n      <th>3</th>\n      <td>rain</td>\n      <td>mild</td>\n      <td>high</td>\n      <td>weak</td>\n      <td>yes</td>\n    </tr>\n    <tr>\n      <th>4</th>\n      <td>rain</td>\n      <td>cool</td>\n      <td>normal</td>\n      <td>weak</td>\n      <td>yes</td>\n    </tr>\n    <tr>\n      <th>5</th>\n      <td>rain</td>\n      <td>cool</td>\n      <td>normal</td>\n      <td>strong</td>\n      <td>no</td>\n    </tr>\n    <tr>\n      <th>6</th>\n      <td>overcast</td>\n      <td>cool</td>\n      <td>normal</td>\n      <td>strong</td>\n      <td>yes</td>\n    </tr>\n    <tr>\n      <th>7</th>\n      <td>sunny</td>\n      <td>mild</td>\n      <td>high</td>\n      <td>weak</td>\n      <td>no</td>\n    </tr>\n    <tr>\n      <th>8</th>\n      <td>sunny</td>\n      <td>cool</td>\n      <td>normal</td>\n      <td>weak</td>\n      <td>yes</td>\n    </tr>\n    <tr>\n      <th>9</th>\n      <td>rain</td>\n      <td>mild</td>\n      <td>normal</td>\n      <td>weak</td>\n      <td>yes</td>\n    </tr>\n    <tr>\n      <th>10</th>\n      <td>sunny</td>\n      <td>mild</td>\n      <td>normal</td>\n      <td>strong</td>\n      <td>yes</td>\n    </tr>\n    <tr>\n      <th>11</th>\n      <td>overcast</td>\n      <td>mild</td>\n      <td>high</td>\n      <td>strong</td>\n      <td>yes</td>\n    </tr>\n    <tr>\n      <th>12</th>\n      <td>overcast</td>\n      <td>hot</td>\n      <td>normal</td>\n      <td>weak</td>\n      <td>yes</td>\n    </tr>\n    <tr>\n      <th>13</th>\n      <td>rain</td>\n      <td>mild</td>\n      <td>high</td>\n      <td>strong</td>\n      <td>no</td>\n    </tr>\n  </tbody>\n</table>\n</div>"
     },
     "execution_count": 3,
     "metadata": {},
     "output_type": "execute_result"
    }
   ],
   "source": [
    "tennis_df = pd.read_csv('data/tennis.csv')\n",
    "tennis_df.head(14)"
   ],
   "metadata": {
    "collapsed": false
   }
  },
  {
   "cell_type": "markdown",
   "source": [
    "<br>\n",
    "\n",
    "### __*Create a Decision Tree*__"
   ],
   "metadata": {
    "collapsed": false
   }
  },
  {
   "cell_type": "code",
   "execution_count": 4,
   "outputs": [
    {
     "name": "stdout",
     "output_type": "stream",
     "text": [
      "The predicted result for the sample is: no\n"
     ]
    }
   ],
   "source": [
    "# Build the Model\n",
    "tennis_model = ID3(tennis_df)\n",
    "\n",
    "# Basic Test of the Model\n",
    "prediction = tennis_model.predict(tennis_df.iloc[0])\n",
    "print(f'The predicted result for the sample is: {prediction}')"
   ],
   "metadata": {
    "collapsed": false
   }
  },
  {
   "cell_type": "markdown",
   "source": [
    "<br>\n",
    "\n",
    "### __*Show the Decision Tree*__"
   ],
   "metadata": {
    "collapsed": false
   }
  },
  {
   "cell_type": "code",
   "execution_count": 5,
   "outputs": [
    {
     "data": {
      "image/svg+xml": "<?xml version=\"1.0\" encoding=\"UTF-8\" standalone=\"no\"?>\n<!DOCTYPE svg PUBLIC \"-//W3C//DTD SVG 1.1//EN\"\n \"http://www.w3.org/Graphics/SVG/1.1/DTD/svg11.dtd\">\n<!-- Generated by graphviz version 2.50.0 (0)\n -->\n<!-- Pages: 1 -->\n<svg width=\"447pt\" height=\"287pt\"\n viewBox=\"0.00 0.00 446.94 287.00\" xmlns=\"http://www.w3.org/2000/svg\" xmlns:xlink=\"http://www.w3.org/1999/xlink\">\n<g id=\"graph0\" class=\"graph\" transform=\"scale(1 1) rotate(0) translate(4 283)\">\n<polygon fill=\"white\" stroke=\"transparent\" points=\"-4,4 -4,-283 442.94,-283 442.94,4 -4,4\"/>\n<!-- 2736803271488 -->\n<g id=\"node1\" class=\"node\">\n<title>2736803271488</title>\n<polygon fill=\"lightblue\" stroke=\"black\" points=\"251.5,-279 197.5,-279 197.5,-243 251.5,-243 251.5,-279\"/>\n<text text-anchor=\"middle\" x=\"224.5\" y=\"-264\" font-family=\"arial\" font-size=\"10.00\">Outlook</text>\n<text text-anchor=\"middle\" x=\"224.5\" y=\"-253\" font-family=\"arial\" font-size=\"10.00\">None</text>\n</g>\n<!-- 2736803273696 -->\n<g id=\"node2\" class=\"node\">\n<title>2736803273696</title>\n<ellipse fill=\"lightgreen\" stroke=\"black\" cx=\"139.5\" cy=\"-180\" rx=\"39.38\" ry=\"18\"/>\n<text text-anchor=\"middle\" x=\"139.5\" y=\"-177.5\" font-family=\"arial\" font-size=\"10.00\">Result: yes</text>\n</g>\n<!-- 2736803271488&#45;&gt;2736803273696 -->\n<g id=\"edge1\" class=\"edge\">\n<title>2736803271488&#45;&gt;2736803273696</title>\n<path fill=\"none\" stroke=\"black\" d=\"M206.05,-242.86C193.65,-231.33 177.16,-216 163.7,-203.49\"/>\n<polygon fill=\"black\" stroke=\"black\" points=\"165.88,-200.75 156.18,-196.5 161.12,-205.87 165.88,-200.75\"/>\n<text text-anchor=\"middle\" x=\"201\" y=\"-218.6\" font-family=\"arial\" font-size=\"8.00\">overcast</text>\n</g>\n<!-- 2736803341552 -->\n<g id=\"node3\" class=\"node\">\n<title>2736803341552</title>\n<polygon fill=\"lightblue\" stroke=\"black\" points=\"252.5,-198 196.5,-198 196.5,-162 252.5,-162 252.5,-198\"/>\n<text text-anchor=\"middle\" x=\"224.5\" y=\"-183\" font-family=\"arial\" font-size=\"10.00\">Humidity</text>\n<text text-anchor=\"middle\" x=\"224.5\" y=\"-172\" font-family=\"arial\" font-size=\"10.00\">rain</text>\n</g>\n<!-- 2736803271488&#45;&gt;2736803341552 -->\n<g id=\"edge2\" class=\"edge\">\n<title>2736803271488&#45;&gt;2736803341552</title>\n<path fill=\"none\" stroke=\"black\" d=\"M224.5,-242.86C224.5,-232.71 224.5,-219.63 224.5,-208.12\"/>\n<polygon fill=\"black\" stroke=\"black\" points=\"228,-208.11 224.5,-198.11 221,-208.11 228,-208.11\"/>\n<text text-anchor=\"middle\" x=\"231.5\" y=\"-218.6\" font-family=\"arial\" font-size=\"8.00\">rain</text>\n</g>\n<!-- 2736803273840 -->\n<g id=\"node10\" class=\"node\">\n<title>2736803273840</title>\n<polygon fill=\"lightblue\" stroke=\"black\" points=\"333.5,-198 277.5,-198 277.5,-162 333.5,-162 333.5,-198\"/>\n<text text-anchor=\"middle\" x=\"305.5\" y=\"-183\" font-family=\"arial\" font-size=\"10.00\">Humidity</text>\n<text text-anchor=\"middle\" x=\"305.5\" y=\"-172\" font-family=\"arial\" font-size=\"10.00\">sunny</text>\n</g>\n<!-- 2736803271488&#45;&gt;2736803273840 -->\n<g id=\"edge9\" class=\"edge\">\n<title>2736803271488&#45;&gt;2736803273840</title>\n<path fill=\"none\" stroke=\"black\" d=\"M242.07,-242.86C253.32,-231.88 268.09,-217.48 280.55,-205.33\"/>\n<polygon fill=\"black\" stroke=\"black\" points=\"283.24,-207.6 287.96,-198.11 278.35,-202.58 283.24,-207.6\"/>\n<text text-anchor=\"middle\" x=\"278.5\" y=\"-218.6\" font-family=\"arial\" font-size=\"8.00\">sunny</text>\n</g>\n<!-- 2736803274224 -->\n<g id=\"node4\" class=\"node\">\n<title>2736803274224</title>\n<polygon fill=\"lightblue\" stroke=\"black\" points=\"157.5,-117 103.5,-117 103.5,-81 157.5,-81 157.5,-117\"/>\n<text text-anchor=\"middle\" x=\"130.5\" y=\"-102\" font-family=\"arial\" font-size=\"10.00\">Wind</text>\n<text text-anchor=\"middle\" x=\"130.5\" y=\"-91\" font-family=\"arial\" font-size=\"10.00\">high</text>\n</g>\n<!-- 2736803341552&#45;&gt;2736803274224 -->\n<g id=\"edge3\" class=\"edge\">\n<title>2736803341552&#45;&gt;2736803274224</title>\n<path fill=\"none\" stroke=\"black\" d=\"M204.1,-161.86C190.8,-150.68 173.25,-135.93 158.63,-123.64\"/>\n<polygon fill=\"black\" stroke=\"black\" points=\"160.76,-120.86 150.85,-117.11 156.26,-126.22 160.76,-120.86\"/>\n<text text-anchor=\"middle\" x=\"188.5\" y=\"-137.6\" font-family=\"arial\" font-size=\"8.00\">high</text>\n</g>\n<!-- 2736803273552 -->\n<g id=\"node7\" class=\"node\">\n<title>2736803273552</title>\n<polygon fill=\"lightblue\" stroke=\"black\" points=\"251.5,-117 197.5,-117 197.5,-81 251.5,-81 251.5,-117\"/>\n<text text-anchor=\"middle\" x=\"224.5\" y=\"-102\" font-family=\"arial\" font-size=\"10.00\">Wind</text>\n<text text-anchor=\"middle\" x=\"224.5\" y=\"-91\" font-family=\"arial\" font-size=\"10.00\">normal</text>\n</g>\n<!-- 2736803341552&#45;&gt;2736803273552 -->\n<g id=\"edge6\" class=\"edge\">\n<title>2736803341552&#45;&gt;2736803273552</title>\n<path fill=\"none\" stroke=\"black\" d=\"M224.5,-161.86C224.5,-151.71 224.5,-138.63 224.5,-127.12\"/>\n<polygon fill=\"black\" stroke=\"black\" points=\"228,-127.11 224.5,-117.11 221,-127.11 228,-127.11\"/>\n<text text-anchor=\"middle\" x=\"237\" y=\"-137.6\" font-family=\"arial\" font-size=\"8.00\">normal</text>\n</g>\n<!-- 2736803409872 -->\n<g id=\"node5\" class=\"node\">\n<title>2736803409872</title>\n<ellipse fill=\"lightcoral\" stroke=\"black\" cx=\"36.5\" cy=\"-18\" rx=\"36.49\" ry=\"18\"/>\n<text text-anchor=\"middle\" x=\"36.5\" y=\"-15.5\" font-family=\"arial\" font-size=\"10.00\">Result: no</text>\n</g>\n<!-- 2736803274224&#45;&gt;2736803409872 -->\n<g id=\"edge4\" class=\"edge\">\n<title>2736803274224&#45;&gt;2736803409872</title>\n<path fill=\"none\" stroke=\"black\" d=\"M110.1,-80.86C96.07,-69.07 77.32,-53.31 62.26,-40.65\"/>\n<polygon fill=\"black\" stroke=\"black\" points=\"64.23,-37.73 54.32,-33.98 59.72,-43.09 64.23,-37.73\"/>\n<text text-anchor=\"middle\" x=\"98\" y=\"-56.6\" font-family=\"arial\" font-size=\"8.00\">strong</text>\n</g>\n<!-- 2736803406800 -->\n<g id=\"node6\" class=\"node\">\n<title>2736803406800</title>\n<ellipse fill=\"lightgreen\" stroke=\"black\" cx=\"130.5\" cy=\"-18\" rx=\"39.38\" ry=\"18\"/>\n<text text-anchor=\"middle\" x=\"130.5\" y=\"-15.5\" font-family=\"arial\" font-size=\"10.00\">Result: yes</text>\n</g>\n<!-- 2736803274224&#45;&gt;2736803406800 -->\n<g id=\"edge5\" class=\"edge\">\n<title>2736803274224&#45;&gt;2736803406800</title>\n<path fill=\"none\" stroke=\"black\" d=\"M130.5,-80.86C130.5,-70.71 130.5,-57.63 130.5,-46.12\"/>\n<polygon fill=\"black\" stroke=\"black\" points=\"134,-46.11 130.5,-36.11 127,-46.11 134,-46.11\"/>\n<text text-anchor=\"middle\" x=\"140\" y=\"-56.6\" font-family=\"arial\" font-size=\"8.00\">weak</text>\n</g>\n<!-- 2736803409728 -->\n<g id=\"node8\" class=\"node\">\n<title>2736803409728</title>\n<ellipse fill=\"lightcoral\" stroke=\"black\" cx=\"224.5\" cy=\"-18\" rx=\"36.49\" ry=\"18\"/>\n<text text-anchor=\"middle\" x=\"224.5\" y=\"-15.5\" font-family=\"arial\" font-size=\"10.00\">Result: no</text>\n</g>\n<!-- 2736803273552&#45;&gt;2736803409728 -->\n<g id=\"edge7\" class=\"edge\">\n<title>2736803273552&#45;&gt;2736803409728</title>\n<path fill=\"none\" stroke=\"black\" d=\"M224.5,-80.86C224.5,-70.71 224.5,-57.63 224.5,-46.12\"/>\n<polygon fill=\"black\" stroke=\"black\" points=\"228,-46.11 224.5,-36.11 221,-46.11 228,-46.11\"/>\n<text text-anchor=\"middle\" x=\"236\" y=\"-56.6\" font-family=\"arial\" font-size=\"8.00\">strong</text>\n</g>\n<!-- 2736803409200 -->\n<g id=\"node9\" class=\"node\">\n<title>2736803409200</title>\n<ellipse fill=\"lightgreen\" stroke=\"black\" cx=\"318.5\" cy=\"-18\" rx=\"39.38\" ry=\"18\"/>\n<text text-anchor=\"middle\" x=\"318.5\" y=\"-15.5\" font-family=\"arial\" font-size=\"10.00\">Result: yes</text>\n</g>\n<!-- 2736803273552&#45;&gt;2736803409200 -->\n<g id=\"edge8\" class=\"edge\">\n<title>2736803273552&#45;&gt;2736803409200</title>\n<path fill=\"none\" stroke=\"black\" d=\"M244.89,-80.86C258.83,-69.14 277.43,-53.51 292.45,-40.89\"/>\n<polygon fill=\"black\" stroke=\"black\" points=\"294.96,-43.35 300.36,-34.24 290.46,-37.99 294.96,-43.35\"/>\n<text text-anchor=\"middle\" x=\"284\" y=\"-56.6\" font-family=\"arial\" font-size=\"8.00\">weak</text>\n</g>\n<!-- 2736803409056 -->\n<g id=\"node11\" class=\"node\">\n<title>2736803409056</title>\n<ellipse fill=\"lightcoral\" stroke=\"black\" cx=\"305.5\" cy=\"-99\" rx=\"36.49\" ry=\"18\"/>\n<text text-anchor=\"middle\" x=\"305.5\" y=\"-96.5\" font-family=\"arial\" font-size=\"10.00\">Result: no</text>\n</g>\n<!-- 2736803273840&#45;&gt;2736803409056 -->\n<g id=\"edge10\" class=\"edge\">\n<title>2736803273840&#45;&gt;2736803409056</title>\n<path fill=\"none\" stroke=\"black\" d=\"M305.5,-161.86C305.5,-151.71 305.5,-138.63 305.5,-127.12\"/>\n<polygon fill=\"black\" stroke=\"black\" points=\"309,-127.11 305.5,-117.11 302,-127.11 309,-127.11\"/>\n<text text-anchor=\"middle\" x=\"313.5\" y=\"-137.6\" font-family=\"arial\" font-size=\"8.00\">high</text>\n</g>\n<!-- 2736803409680 -->\n<g id=\"node12\" class=\"node\">\n<title>2736803409680</title>\n<ellipse fill=\"lightgreen\" stroke=\"black\" cx=\"399.5\" cy=\"-99\" rx=\"39.38\" ry=\"18\"/>\n<text text-anchor=\"middle\" x=\"399.5\" y=\"-96.5\" font-family=\"arial\" font-size=\"10.00\">Result: yes</text>\n</g>\n<!-- 2736803273840&#45;&gt;2736803409680 -->\n<g id=\"edge11\" class=\"edge\">\n<title>2736803273840&#45;&gt;2736803409680</title>\n<path fill=\"none\" stroke=\"black\" d=\"M325.89,-161.86C339.83,-150.14 358.43,-134.51 373.45,-121.89\"/>\n<polygon fill=\"black\" stroke=\"black\" points=\"375.96,-124.35 381.36,-115.24 371.46,-118.99 375.96,-124.35\"/>\n<text text-anchor=\"middle\" x=\"368\" y=\"-137.6\" font-family=\"arial\" font-size=\"8.00\">normal</text>\n</g>\n</g>\n</svg>\n",
      "text/plain": "<graphviz.graphs.Digraph at 0x27d362fd130>"
     },
     "execution_count": 5,
     "metadata": {},
     "output_type": "execute_result"
    }
   ],
   "source": [
    "# Visualize the tree\n",
    "tennis_model.visualize_tree()"
   ],
   "metadata": {
    "collapsed": false
   }
  },
  {
   "cell_type": "markdown",
   "source": [
    "<br>\n",
    "\n",
    "### __*[Gender Dataset](https://www.kaggle.com/datasets/elakiricoder/gender-classification-dataset) Preparation*__"
   ],
   "metadata": {
    "collapsed": false
   }
  },
  {
   "cell_type": "code",
   "execution_count": 6,
   "outputs": [
    {
     "data": {
      "text/plain": "   long_hair  forehead_width_cm  forehead_height_cm  nose_wide  nose_long  \\\n0          1               11.8                 6.1          1          0   \n1          0               14.0                 5.4          0          0   \n2          0               11.8                 6.3          1          1   \n3          0               14.4                 6.1          0          1   \n4          1               13.5                 5.9          0          0   \n5          1               13.0                 6.8          1          1   \n6          1               15.3                 6.2          1          1   \n7          0               13.0                 5.2          0          0   \n8          1               11.9                 5.4          1          0   \n9          1               12.1                 5.4          0          0   \n\n   lips_thin  distance_nose_to_lip_long  gender  \n0          1                          1    Male  \n1          1                          0  Female  \n2          1                          1    Male  \n3          1                          1    Male  \n4          0                          0  Female  \n5          1                          1    Male  \n6          1                          0    Male  \n7          0                          0  Female  \n8          1                          1  Female  \n9          0                          0  Female  ",
      "text/html": "<div>\n<style scoped>\n    .dataframe tbody tr th:only-of-type {\n        vertical-align: middle;\n    }\n\n    .dataframe tbody tr th {\n        vertical-align: top;\n    }\n\n    .dataframe thead th {\n        text-align: right;\n    }\n</style>\n<table border=\"1\" class=\"dataframe\">\n  <thead>\n    <tr style=\"text-align: right;\">\n      <th></th>\n      <th>long_hair</th>\n      <th>forehead_width_cm</th>\n      <th>forehead_height_cm</th>\n      <th>nose_wide</th>\n      <th>nose_long</th>\n      <th>lips_thin</th>\n      <th>distance_nose_to_lip_long</th>\n      <th>gender</th>\n    </tr>\n  </thead>\n  <tbody>\n    <tr>\n      <th>0</th>\n      <td>1</td>\n      <td>11.8</td>\n      <td>6.1</td>\n      <td>1</td>\n      <td>0</td>\n      <td>1</td>\n      <td>1</td>\n      <td>Male</td>\n    </tr>\n    <tr>\n      <th>1</th>\n      <td>0</td>\n      <td>14.0</td>\n      <td>5.4</td>\n      <td>0</td>\n      <td>0</td>\n      <td>1</td>\n      <td>0</td>\n      <td>Female</td>\n    </tr>\n    <tr>\n      <th>2</th>\n      <td>0</td>\n      <td>11.8</td>\n      <td>6.3</td>\n      <td>1</td>\n      <td>1</td>\n      <td>1</td>\n      <td>1</td>\n      <td>Male</td>\n    </tr>\n    <tr>\n      <th>3</th>\n      <td>0</td>\n      <td>14.4</td>\n      <td>6.1</td>\n      <td>0</td>\n      <td>1</td>\n      <td>1</td>\n      <td>1</td>\n      <td>Male</td>\n    </tr>\n    <tr>\n      <th>4</th>\n      <td>1</td>\n      <td>13.5</td>\n      <td>5.9</td>\n      <td>0</td>\n      <td>0</td>\n      <td>0</td>\n      <td>0</td>\n      <td>Female</td>\n    </tr>\n    <tr>\n      <th>5</th>\n      <td>1</td>\n      <td>13.0</td>\n      <td>6.8</td>\n      <td>1</td>\n      <td>1</td>\n      <td>1</td>\n      <td>1</td>\n      <td>Male</td>\n    </tr>\n    <tr>\n      <th>6</th>\n      <td>1</td>\n      <td>15.3</td>\n      <td>6.2</td>\n      <td>1</td>\n      <td>1</td>\n      <td>1</td>\n      <td>0</td>\n      <td>Male</td>\n    </tr>\n    <tr>\n      <th>7</th>\n      <td>0</td>\n      <td>13.0</td>\n      <td>5.2</td>\n      <td>0</td>\n      <td>0</td>\n      <td>0</td>\n      <td>0</td>\n      <td>Female</td>\n    </tr>\n    <tr>\n      <th>8</th>\n      <td>1</td>\n      <td>11.9</td>\n      <td>5.4</td>\n      <td>1</td>\n      <td>0</td>\n      <td>1</td>\n      <td>1</td>\n      <td>Female</td>\n    </tr>\n    <tr>\n      <th>9</th>\n      <td>1</td>\n      <td>12.1</td>\n      <td>5.4</td>\n      <td>0</td>\n      <td>0</td>\n      <td>0</td>\n      <td>0</td>\n      <td>Female</td>\n    </tr>\n  </tbody>\n</table>\n</div>"
     },
     "execution_count": 6,
     "metadata": {},
     "output_type": "execute_result"
    }
   ],
   "source": [
    "gender_df = pd.read_csv('data/gender_class.csv')\n",
    "\n",
    "size = 0.8\n",
    "split = int(len(gender_df)*size)\n",
    "\n",
    "gender_df_train = gender_df.iloc[:split]\n",
    "gender_df_test = gender_df[split:]\n",
    "\n",
    "gender_df.head(10)"
   ],
   "metadata": {
    "collapsed": false
   }
  },
  {
   "cell_type": "markdown",
   "source": [
    "<br>\n",
    "\n",
    "### __*Train Model*__"
   ],
   "metadata": {
    "collapsed": false
   }
  },
  {
   "cell_type": "code",
   "execution_count": 7,
   "outputs": [
    {
     "name": "stdout",
     "output_type": "stream",
     "text": [
      "The predicted result for the sample is: Male\n"
     ]
    }
   ],
   "source": [
    "# Build the Model\n",
    "gender_model = ID3(gender_df_train)\n",
    "\n",
    "# Basic Test of the Model\n",
    "prediction = gender_model.predict(gender_df.iloc[0])\n",
    "print(f'The predicted result for the sample is: {prediction}')"
   ],
   "metadata": {
    "collapsed": false
   }
  },
  {
   "cell_type": "markdown",
   "source": [
    "<br>\n",
    "\n",
    "### __*Test Model & Results*__"
   ],
   "metadata": {
    "collapsed": false
   }
  },
  {
   "cell_type": "code",
   "execution_count": 8,
   "outputs": [
    {
     "name": "stdout",
     "output_type": "stream",
     "text": [
      "Accuracy of the model is 93.01%\n"
     ]
    }
   ],
   "source": [
    "start = int(len(gender_df) - len(gender_df_test))\n",
    "stop = len(gender_df)\n",
    "\n",
    "correct = 0\n",
    "for idx in range(start, stop):\n",
    "    if gender_model.predict(gender_df.iloc[idx]) == gender_df.iloc[idx][-1]:\n",
    "        correct += 1\n",
    "\n",
    "print(f'Accuracy of the model is {(correct/len(gender_df_test)*100):.2f}%')"
   ],
   "metadata": {
    "collapsed": false
   }
  },
  {
   "cell_type": "code",
   "execution_count": 9,
   "outputs": [
    {
     "name": "stdout",
     "output_type": "stream",
     "text": [
      "Split on distance_nose_to_lip_long of value None\n",
      "Result: None\n",
      "Chaining: {0: <__main__.Node object at 0x0000027D3630A520>, 1: <__main__.Node object at 0x0000027D363CAD00>}\n"
     ]
    }
   ],
   "source": [
    "gender_model.get_tree().show()"
   ],
   "metadata": {
    "collapsed": false
   }
  }
 ],
 "metadata": {
  "kernelspec": {
   "display_name": "Python 3",
   "language": "python",
   "name": "python3"
  },
  "language_info": {
   "codemirror_mode": {
    "name": "ipython",
    "version": 2
   },
   "file_extension": ".py",
   "mimetype": "text/x-python",
   "name": "python",
   "nbconvert_exporter": "python",
   "pygments_lexer": "ipython2",
   "version": "2.7.6"
  }
 },
 "nbformat": 4,
 "nbformat_minor": 0
}
