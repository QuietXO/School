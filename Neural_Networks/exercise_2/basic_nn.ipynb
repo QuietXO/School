{
 "cells": [
  {
   "cell_type": "markdown",
   "source": [
    "# **_Basic Neural Network Model_**"
   ],
   "metadata": {
    "collapsed": false
   }
  },
  {
   "cell_type": "markdown",
   "source": [
    "<br>\n",
    "\n",
    "### __*Import Libraries*__"
   ],
   "metadata": {
    "collapsed": false
   }
  },
  {
   "cell_type": "code",
   "execution_count": 1,
   "outputs": [],
   "source": [
    "import nn\n",
    "import warnings\n",
    "import numpy as np\n",
    "import pandas as pd\n",
    "import matplotlib.pyplot as plt\n",
    "\n",
    "warnings.filterwarnings('ignore')"
   ],
   "metadata": {
    "collapsed": false
   }
  },
  {
   "cell_type": "markdown",
   "source": [
    "<br>\n",
    "\n",
    "### __*Neural Network*__"
   ],
   "metadata": {
    "collapsed": false
   }
  },
  {
   "cell_type": "code",
   "execution_count": 2,
   "outputs": [],
   "source": [
    "class NeuralNetwork:\n",
    "    def __init__(self, layers, activation='sigmoid'):\n",
    "        self.layers = layers\n",
    "        self.activation = activation\n",
    "        self.weights = []\n",
    "        self.biases = []\n",
    "\n",
    "        # Initialize weights and biases for layers\n",
    "        for i in range(1, len(layers)):\n",
    "            self.weights.append(np.random.randn(layers[i-1], layers[i]))\n",
    "            self.biases.append(np.zeros((1, layers[i])))\n",
    "\n",
    "    def forward(self, X):\n",
    "        \"\"\"Perform forward pass through the network\"\"\"\n",
    "        activations = [X]\n",
    "        for i in range(len(self.weights)):\n",
    "            net_inputs = np.dot(activations[-1], self.weights[i]) + self.biases[i]\n",
    "            if self.activation == 'sigmoid':\n",
    "                activations.append(nn.sigmoid(net_inputs))\n",
    "            elif self.activation == 'relu':\n",
    "                activations.append(nn.relu(net_inputs))\n",
    "        return activations[-1]\n",
    "\n",
    "    def train(self, X, y, learning_rate=0.1, epochs=1000):\n",
    "        error_history = []\n",
    "        for i in range(epochs):\n",
    "            activations = [X]\n",
    "            net_inputs = []\n",
    "            # Perform forward pass through the network\n",
    "            for j in range(len(self.weights)):\n",
    "                net_inputs.append(np.dot(activations[-1], self.weights[j]) + self.biases[j])\n",
    "                if self.activation == 'sigmoid':\n",
    "                    activations.append(nn.sigmoid(net_inputs[-1]))\n",
    "                elif self.activation == 'relu':\n",
    "                    activations.append(nn.relu(net_inputs[-1]))\n",
    "\n",
    "            # Calculate error of the output layer\n",
    "            error = y - activations[-1]\n",
    "\n",
    "            # Calculate the mean squared error\n",
    "            error_history.append(np.mean(np.square(error)))\n",
    "\n",
    "            # Back-propagate the error\n",
    "            if self.activation == 'sigmoid':\n",
    "                deltas = [error * nn.sigmoid_derivative(activations[-1])]\n",
    "                for j in range(len(self.weights)-1, 0, -1):\n",
    "                    deltas.append(np.dot(deltas[-1], self.weights[j].T) * nn.sigmoid_derivative(activations[j]))\n",
    "                deltas.reverse()\n",
    "            elif self.activation == 'relu':\n",
    "                deltas = [error * nn.relu_derivative(activations[-1])]\n",
    "                for j in range(len(self.weights)-1, 0, -1):\n",
    "                    deltas.append(np.dot(deltas[-1], self.weights[j].T) * nn.relu_derivative(activations[j]))\n",
    "                deltas.reverse()\n",
    "            else:\n",
    "                raise ReferenceError(\"Unknown activation function\", self.activation)\n",
    "\n",
    "            # Update weights and biases using calculated deltas\n",
    "            for j in range(len(self.weights)):\n",
    "                self.weights[j] += learning_rate * np.dot(activations[j].T, deltas[j])\n",
    "                self.biases[j] += learning_rate * np.sum(deltas[j], axis=0, keepdims=True)\n",
    "        return error_history\n",
    "\n",
    "    def precision(self, X, y):\n",
    "        predictions = self.forward(X)\n",
    "        total_len = len(predictions)\n",
    "        correct = 0\n",
    "        for idx in range(total_len):\n",
    "            switch = True\n",
    "            for j in range(len(predictions[idx])):\n",
    "                if round(predictions[idx][j]) != y[idx][j]:\n",
    "                    switch = False\n",
    "                    break\n",
    "            if switch:\n",
    "                correct += 1\n",
    "        return correct / total_len"
   ],
   "metadata": {
    "collapsed": false
   }
  },
  {
   "cell_type": "markdown",
   "source": [
    "<br>\n",
    "\n",
    "### __*Dataset*__"
   ],
   "metadata": {
    "collapsed": false
   }
  },
  {
   "cell_type": "code",
   "execution_count": 3,
   "outputs": [
    {
     "data": {
      "text/plain": "   age  sex  cp  trtbps  chol  fbs  restecg  thalachh  exng  oldpeak  slp  \\\n0   63    1   3     145   233    1        0       150     0      2.3    0   \n1   37    1   2     130   250    0        1       187     0      3.5    0   \n2   41    0   1     130   204    0        0       172     0      1.4    2   \n3   56    1   1     120   236    0        1       178     0      0.8    2   \n4   57    0   0     120   354    0        1       163     1      0.6    2   \n\n   caa  thall  output  \n0    0      1       1  \n1    0      2       1  \n2    0      2       1  \n3    0      2       1  \n4    0      2       1  ",
      "text/html": "<div>\n<style scoped>\n    .dataframe tbody tr th:only-of-type {\n        vertical-align: middle;\n    }\n\n    .dataframe tbody tr th {\n        vertical-align: top;\n    }\n\n    .dataframe thead th {\n        text-align: right;\n    }\n</style>\n<table border=\"1\" class=\"dataframe\">\n  <thead>\n    <tr style=\"text-align: right;\">\n      <th></th>\n      <th>age</th>\n      <th>sex</th>\n      <th>cp</th>\n      <th>trtbps</th>\n      <th>chol</th>\n      <th>fbs</th>\n      <th>restecg</th>\n      <th>thalachh</th>\n      <th>exng</th>\n      <th>oldpeak</th>\n      <th>slp</th>\n      <th>caa</th>\n      <th>thall</th>\n      <th>output</th>\n    </tr>\n  </thead>\n  <tbody>\n    <tr>\n      <th>0</th>\n      <td>63</td>\n      <td>1</td>\n      <td>3</td>\n      <td>145</td>\n      <td>233</td>\n      <td>1</td>\n      <td>0</td>\n      <td>150</td>\n      <td>0</td>\n      <td>2.3</td>\n      <td>0</td>\n      <td>0</td>\n      <td>1</td>\n      <td>1</td>\n    </tr>\n    <tr>\n      <th>1</th>\n      <td>37</td>\n      <td>1</td>\n      <td>2</td>\n      <td>130</td>\n      <td>250</td>\n      <td>0</td>\n      <td>1</td>\n      <td>187</td>\n      <td>0</td>\n      <td>3.5</td>\n      <td>0</td>\n      <td>0</td>\n      <td>2</td>\n      <td>1</td>\n    </tr>\n    <tr>\n      <th>2</th>\n      <td>41</td>\n      <td>0</td>\n      <td>1</td>\n      <td>130</td>\n      <td>204</td>\n      <td>0</td>\n      <td>0</td>\n      <td>172</td>\n      <td>0</td>\n      <td>1.4</td>\n      <td>2</td>\n      <td>0</td>\n      <td>2</td>\n      <td>1</td>\n    </tr>\n    <tr>\n      <th>3</th>\n      <td>56</td>\n      <td>1</td>\n      <td>1</td>\n      <td>120</td>\n      <td>236</td>\n      <td>0</td>\n      <td>1</td>\n      <td>178</td>\n      <td>0</td>\n      <td>0.8</td>\n      <td>2</td>\n      <td>0</td>\n      <td>2</td>\n      <td>1</td>\n    </tr>\n    <tr>\n      <th>4</th>\n      <td>57</td>\n      <td>0</td>\n      <td>0</td>\n      <td>120</td>\n      <td>354</td>\n      <td>0</td>\n      <td>1</td>\n      <td>163</td>\n      <td>1</td>\n      <td>0.6</td>\n      <td>2</td>\n      <td>0</td>\n      <td>2</td>\n      <td>1</td>\n    </tr>\n  </tbody>\n</table>\n</div>"
     },
     "execution_count": 3,
     "metadata": {},
     "output_type": "execute_result"
    }
   ],
   "source": [
    "# Prepare the dataset\n",
    "dataset = nn.load_dataset('data/heart.csv')\n",
    "train_data, test_data = nn.heart_split_dataset(dataset, shuffle=True)\n",
    "X_train, y_train = nn.xy_split_dataset(train_data)\n",
    "X_test, y_test = nn.xy_split_dataset(test_data)\n",
    "\n",
    "# Show structure of dataset\n",
    "heart = pd.read_csv('data/heart.csv')\n",
    "heart.head()"
   ],
   "metadata": {
    "collapsed": false
   }
  },
  {
   "cell_type": "markdown",
   "source": [
    "<br>\n",
    "\n",
    "### __*Model Training Phase*__"
   ],
   "metadata": {
    "collapsed": false
   }
  },
  {
   "cell_type": "code",
   "execution_count": 4,
   "outputs": [
    {
     "data": {
      "text/plain": "<Figure size 640x480 with 1 Axes>",
      "image/png": "[encoded data removed]"
     },
     "metadata": {},
     "output_type": "display_data"
    }
   ],
   "source": [
    "# Initialize neural network model\n",
    "input_len = len(X_train[0])\n",
    "output_len = len(y_train[0])\n",
    "structure = [input_len, 30, 30, output_len]\n",
    "activ = 'sigmoid'\n",
    "model = NeuralNetwork(structure, activ)\n",
    "\n",
    "# Train the network for 10000 epochs\n",
    "lr = 0.0001\n",
    "iters = 100_000\n",
    "error_lst = model.train(X_train, y_train, lr, iters)\n",
    "\n",
    "# # Print the final predictions and errors\n",
    "# predictions = model.forward(X_train)\n",
    "# print(\"Predictions:\")\n",
    "# print(predictions)\n",
    "# print()\n",
    "#\n",
    "# print(\"Errors:\")\n",
    "# for error in error_history:\n",
    "#     print(error)\n",
    "# print()\n",
    "\n",
    "# Plot the error over epochs\n",
    "plt.plot(range(iters), error_lst)\n",
    "plt.title(\"Error over epochs\")\n",
    "plt.xlabel(\"Epoch\")\n",
    "plt.ylabel(\"Mean absolute error\")\n",
    "plt.show()"
   ],
   "metadata": {
    "collapsed": false
   }
  },
  {
   "cell_type": "markdown",
   "source": [
    "<br>\n",
    "\n",
    "### __*Model Testing Phase*__"
   ],
   "metadata": {
    "collapsed": false
   }
  },
  {
   "cell_type": "code",
   "execution_count": 5,
   "outputs": [
    {
     "name": "stdout",
     "output_type": "stream",
     "text": [
      "Precision: 77.04918032786885%\n"
     ]
    }
   ],
   "source": [
    "print(f'Precision: {model.precision(X_test, y_test)*100}%')"
   ],
   "metadata": {
    "collapsed": false
   }
  }
 ],
 "metadata": {
  "kernelspec": {
   "display_name": "Python 3",
   "language": "python",
   "name": "python3"
  },
  "language_info": {
   "codemirror_mode": {
    "name": "ipython",
    "version": 2
   },
   "file_extension": ".py",
   "mimetype": "text/x-python",
   "name": "python",
   "nbconvert_exporter": "python",
   "pygments_lexer": "ipython2",
   "version": "2.7.6"
  }
 },
 "nbformat": 4,
 "nbformat_minor": 0
}
